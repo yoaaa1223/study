{
 "cells": [
  {
   "cell_type": "code",
   "execution_count": 7,
   "metadata": {
    "collapsed": true,
    "pycharm": {
     "name": "#%%\n"
    }
   },
   "outputs": [
    {
     "name": "stdout",
     "output_type": "stream",
     "text": [
      "x [1. 2. 3.] y [2. 4. 6.]\n",
      "x + y [3. 6. 9.]\n",
      "x * y [ 2.  8. 18.]\n",
      "x / y [0.5 0.5 0.5]\n",
      "x * 10 [10. 20. 30.]\n"
     ]
    }
   ],
   "source": [
    "import numpy as np\n",
    "x = np.array([1.0, 2.0, 3.0])\n",
    "y = np.array([2.0, 4.0, 6.0])\n",
    "print(\"x\",x,\"y\",y)\n",
    "print(\"x + y\",x+y)\n",
    "print(\"x * y\",x*y)\n",
    "print(\"x / y\",x/y)\n",
    "print(\"x * 10\",x*10)"
   ]
  },
  {
   "cell_type": "markdown",
   "source": [
    "<h2>行列積　＆　ブロードキャスト</h2>"
   ],
   "metadata": {
    "collapsed": false,
    "pycharm": {
     "name": "#%% md\n"
    }
   }
  },
  {
   "cell_type": "code",
   "execution_count": 53,
   "outputs": [
    {
     "name": "stdout",
     "output_type": "stream",
     "text": [
      "A * A =\n",
      "[[ 1  4]\n",
      " [ 9 16]]\n",
      "-----------------------------\n",
      "np.dot(A,A) = \n",
      "[[ 7 10]\n",
      " [15 22]]\n",
      "-----------------------------\n",
      "[[1 2]\n",
      " [3 4]] * [10 20] =\n",
      "[[10 40]\n",
      " [30 80]]\n",
      "-----------------------------\n",
      "[[1 2]\n",
      " [3 4]]\n",
      "*\n",
      "[[10]\n",
      " [20]] =\n",
      "[[10 20]\n",
      " [60 80]]\n"
     ]
    }
   ],
   "source": [
    "A = np.array([[1,2],[3,4]])\n",
    "B = np.array([10,20])\n",
    "print(\"A * A =\")\n",
    "print(A*A)\n",
    "print(\"-----------------------------\")\n",
    "print(\"np.dot(A,A) = \")\n",
    "print(np.dot(A,A))\n",
    "print(\"-----------------------------\")\n",
    "print(A,\"*\",B,\"=\")\n",
    "print(A*B)\n",
    "print(\"-----------------------------\")\n",
    "print(A)\n",
    "print(\"*\")\n",
    "print(B.reshape(-1,1),\"=\")\n",
    "print(A*B.reshape(-1,1))"
   ],
   "metadata": {
    "collapsed": false,
    "pycharm": {
     "name": "#%%\n"
    }
   }
  },
  {
   "cell_type": "markdown",
   "source": [
    "<h2>reshape</h2>\n",
    "-1は自動補完<br>\n",
    "reshape(-1,1)で1次元配列の転置"
   ],
   "metadata": {
    "collapsed": false,
    "pycharm": {
     "name": "#%%　md\n"
    }
   }
  },
  {
   "cell_type": "code",
   "execution_count": 43,
   "outputs": [
    {
     "name": "stdout",
     "output_type": "stream",
     "text": [
      "[ 0  1  2  3  4  5  6  7  8  9 10 11 12 13 14 15 16 17 18 19 20 21 22 23]\n",
      "----------------------------\n",
      "reshape([4,6])\n",
      "[[ 0  1  2  3  4  5]\n",
      " [ 6  7  8  9 10 11]\n",
      " [12 13 14 15 16 17]\n",
      " [18 19 20 21 22 23]]\n",
      "----------------------------\n",
      "reshape([2,3,4])\n",
      "[[[ 0  1  2  3]\n",
      "  [ 4  5  6  7]\n",
      "  [ 8  9 10 11]]\n",
      "\n",
      " [[12 13 14 15]\n",
      "  [16 17 18 19]\n",
      "  [20 21 22 23]]]\n"
     ]
    }
   ],
   "source": [
    "a = np.arange(24)\n",
    "print(a)\n",
    "print(\"----------------------------\")\n",
    "print(\"reshape([4,6])\")\n",
    "print(a.reshape([4,6]))\n",
    "print(\"----------------------------\")\n",
    "print(\"reshape([2,3,4])\")\n",
    "print(a.reshape([2,3,4]))\n"
   ],
   "metadata": {
    "collapsed": false,
    "pycharm": {
     "name": "#%%\n"
    }
   }
  },
  {
   "cell_type": "markdown",
   "source": [
    "<h2>matplotlib</h2>"
   ],
   "metadata": {
    "collapsed": false,
    "pycharm": {
     "name": "#%% md\n"
    }
   }
  },
  {
   "cell_type": "code",
   "execution_count": 54,
   "outputs": [
    {
     "data": {
      "text/plain": "<Figure size 720x288 with 2 Axes>",
      "image/png": "[encoded data removed]"
     },
     "metadata": {
      "needs_background": "light"
     },
     "output_type": "display_data"
    }
   ],
   "source": [
    "import numpy as np\n",
    "import matplotlib.pyplot as plt\n",
    "\n",
    "def sigmoid(x):\n",
    "    return 1/(1+np.exp(-x))\n",
    "def relu(x):\n",
    "    return np.maximum(0,x)\n",
    "\n",
    "fig, (ax1, ax2) = plt.subplots(ncols=2, figsize=(10,4))\n",
    "\n",
    "x = np.arange(-5,5,0.1)\n",
    "y1= sigmoid(x)\n",
    "y2 = relu(x)\n",
    "ax1.plot(x,y1)\n",
    "ax2.plot(x,y2)\n",
    "ax1.set_title(\"sigmoid\")\n",
    "ax2.set_title(\"relu\")\n",
    "fig.tight_layout()\n",
    "plt.show()"
   ],
   "metadata": {
    "collapsed": false,
    "pycharm": {
     "name": "#%%\n"
    }
   }
  }
 ],
 "metadata": {
  "kernelspec": {
   "name": "study",
   "language": "python",
   "display_name": "study"
  },
  "language_info": {
   "codemirror_mode": {
    "name": "ipython",
    "version": 2
   },
   "file_extension": ".py",
   "mimetype": "text/x-python",
   "name": "python",
   "nbconvert_exporter": "python",
   "pygments_lexer": "ipython2",
   "version": "2.7.6"
  }
 },
 "nbformat": 4,
 "nbformat_minor": 0
}